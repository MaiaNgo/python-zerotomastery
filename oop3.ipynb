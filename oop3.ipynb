{
 "metadata": {
  "language_info": {
   "codemirror_mode": {
    "name": "ipython",
    "version": 3
   },
   "file_extension": ".py",
   "mimetype": "text/x-python",
   "name": "python",
   "nbconvert_exporter": "python",
   "pygments_lexer": "ipython3",
   "version": "3.6.6-final"
  },
  "orig_nbformat": 2,
  "kernelspec": {
   "name": "python3",
   "display_name": "Python 3",
   "language": "python"
  }
 },
 "nbformat": 4,
 "nbformat_minor": 2,
 "cells": [
  {
   "cell_type": "code",
   "execution_count": 20,
   "metadata": {},
   "outputs": [
    {
     "output_type": "stream",
     "name": "stdout",
     "text": [
      "Maia\n25\n"
     ]
    }
   ],
   "source": [
    "# Encapsulation\n",
    "class PlayerCharacter:\n",
    "    def __init__(self, name, age):\n",
    "        self.name = name\n",
    "        self.age = age\n",
    "\n",
    "player1 = PlayerCharacter('Maia', 25)\n",
    "print(player1.name)\n",
    "print(player1.age)"
   ]
  },
  {
   "cell_type": "code",
   "execution_count": 22,
   "metadata": {},
   "outputs": [
    {
     "output_type": "stream",
     "name": "stdout",
     "text": [
      "Maia\n25\n"
     ]
    }
   ],
   "source": [
    "player2 = {'name':'Maia', 'age': 25}\n",
    "print(player2['name'])\n",
    "print(player2['age'])"
   ]
  },
  {
   "cell_type": "code",
   "execution_count": 29,
   "metadata": {},
   "outputs": [],
   "source": [
    "# Abstraction\n",
    "class PlayerCharacter:\n",
    "    def __init__(self, name, age):\n",
    "        self.name = name\n",
    "        self.age = age\n",
    "\n",
    "    def run(self):\n",
    "        print('run')\n",
    "        \n",
    "    def speak(self):\n",
    "        print(f' my name is {self.name}, and I am {self.age} years old')\n"
   ]
  },
  {
   "cell_type": "code",
   "execution_count": 30,
   "metadata": {},
   "outputs": [
    {
     "output_type": "stream",
     "name": "stdout",
     "text": [
      " my name is Myra, and I am 9 years old\n"
     ]
    }
   ],
   "source": [
    "player1 = PlayerCharacter('Myra', 9)\n",
    "player1.speak()"
   ]
  },
  {
   "cell_type": "code",
   "execution_count": null,
   "metadata": {},
   "outputs": [],
   "source": []
  }
 ]
}
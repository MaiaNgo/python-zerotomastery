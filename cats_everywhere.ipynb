{
 "metadata": {
  "language_info": {
   "codemirror_mode": {
    "name": "ipython",
    "version": 3
   },
   "file_extension": ".py",
   "mimetype": "text/x-python",
   "name": "python",
   "nbconvert_exporter": "python",
   "pygments_lexer": "ipython3",
   "version": "3.6.6-final"
  },
  "orig_nbformat": 2,
  "kernelspec": {
   "name": "python3",
   "display_name": "Python 3",
   "language": "python"
  }
 },
 "nbformat": 4,
 "nbformat_minor": 2,
 "cells": [
  {
   "cell_type": "code",
   "execution_count": 1,
   "metadata": {},
   "outputs": [],
   "source": [
    "# Cats Everywhere\n",
    "#Given the below class:\n",
    "class Cat:\n",
    "    species = 'mammal'\n",
    "    def __init__(self, name, age):\n",
    "        self.name = name\n",
    "        self.age = age\n",
    "\n",
    "\n",
    "# 1 Instantiate the Cat object with 3 cats\n",
    "firstCat  = Cat('Maia', 25)\n",
    "secondCat = Cat('Myra',  9)\n",
    "thirdCat  = Cat('Arby', 10)\n",
    "\n",
    "\n",
    "# 2 Create a function that finds the oldest cat\n",
    "\n",
    "\n",
    "\n",
    "# 3 Print out: \"The oldest cat is x years old.\". x will be the oldest cat age by using the function in #2"
   ]
  },
  {
   "cell_type": "code",
   "execution_count": 5,
   "metadata": {},
   "outputs": [],
   "source": [
    "def oldestCat(catList):\n",
    "    theOldestCat = None\n",
    "    theOldestAge = 0\n",
    "    for cat in catList:\n",
    "        if cat.age > theOldestAge:\n",
    "            theOldestCat = cat\n",
    "            theOldestAge = cat.age\n",
    "\n",
    "    return theOldestCat\n",
    "\n",
    "        \n",
    "        "
   ]
  },
  {
   "cell_type": "code",
   "execution_count": 8,
   "metadata": {},
   "outputs": [
    {
     "output_type": "stream",
     "name": "stdout",
     "text": [
      "the oldest cat is Maia has 25 years old\n"
     ]
    }
   ],
   "source": [
    "the_oldest_cat = oldestCat([firstCat, secondCat, thirdCat])\n",
    "print(f'the oldest cat is {the_oldest_cat.name} has {the_oldest_cat.age} years old' )"
   ]
  },
  {
   "cell_type": "code",
   "execution_count": 43,
   "metadata": {},
   "outputs": [],
   "source": [
    "# Cats Everywhere\n",
    "#Given the below class:\n",
    "class Cat:\n",
    "    species = 'mammal'\n",
    "    def __init__(self, name, age):\n",
    "        self.name = name\n",
    "        self.age = age\n",
    "\n",
    "\n",
    "# 1 Instantiate the Cat object with 3 cats\n",
    "firstCat  = Cat('Maia', 25)\n",
    "secondCat = Cat('Myra',  9)\n",
    "thirdCat  = Cat('Arby', 10)\n",
    "forthCat  = Cat('Chau', 25)\n",
    "\n",
    "def oldestCat(catList):\n",
    "    theOldestCat = []\n",
    "\n",
    "    # find all ages\n",
    "    catage = [cat.age for cat in catList]\n",
    "        \n",
    "\n",
    "    # find all cats with max age\n",
    "    # for cat in catList:\n",
    "    #     if cat.age == max(catage):\n",
    "    #         theOldestCat.append(cat)\n",
    "\n",
    "    theOldestCat = [cat for cat in catList if cat.age == max(catage)]\n",
    "\n",
    "    return theOldestCat        "
   ]
  },
  {
   "cell_type": "code",
   "execution_count": 44,
   "metadata": {},
   "outputs": [
    {
     "output_type": "stream",
     "name": "stdout",
     "text": [
      "The oldest cat is Maia has 25 years old\nThe oldest cat is Chau has 25 years old\n"
     ]
    }
   ],
   "source": [
    "the_oldest_cat = oldestCat([firstCat, secondCat, thirdCat, forthCat])\n",
    "for cat in the_oldest_cat:\n",
    "    print(f'The oldest cat is {cat.name} has {cat.age} years old' )\n",
    "\n"
   ]
  },
  {
   "cell_type": "code",
   "execution_count": null,
   "metadata": {},
   "outputs": [],
   "source": []
  }
 ]
}
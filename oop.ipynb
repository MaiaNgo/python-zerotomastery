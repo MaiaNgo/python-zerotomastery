{
 "metadata": {
  "language_info": {
   "codemirror_mode": {
    "name": "ipython",
    "version": 3
   },
   "file_extension": ".py",
   "mimetype": "text/x-python",
   "name": "python",
   "nbconvert_exporter": "python",
   "pygments_lexer": "ipython3",
   "version": "3.6.6-final"
  },
  "orig_nbformat": 2,
  "kernelspec": {
   "name": "python3",
   "display_name": "Python 3",
   "language": "python"
  }
 },
 "nbformat": 4,
 "nbformat_minor": 2,
 "cells": [
  {
   "cell_type": "code",
   "execution_count": 1,
   "metadata": {},
   "outputs": [
    {
     "output_type": "stream",
     "name": "stdout",
     "text": [
      "<class 'NoneType'>\n<class 'bool'>\n<class 'int'>\n<class 'float'>\n<class 'str'>\n<class 'list'>\n<class 'tuple'>\n<class 'dict'>\n"
     ]
    }
   ],
   "source": [
    "# OOP\n",
    "print(type(None))\n",
    "print(type(True))\n",
    "print(type(5))\n",
    "print(type(5.5))\n",
    "print(type('hi'))\n",
    "print(type([]))\n",
    "print(type(()))\n",
    "print(type({}))\n"
   ]
  },
  {
   "cell_type": "code",
   "execution_count": 2,
   "metadata": {},
   "outputs": [
    {
     "output_type": "stream",
     "name": "stdout",
     "text": [
      "<class 'type'>\n"
     ]
    }
   ],
   "source": [
    "class BigObject: # Class\n",
    "    # code\n",
    "    pass\n",
    "print(type(BigObject))"
   ]
  },
  {
   "cell_type": "code",
   "execution_count": 3,
   "metadata": {},
   "outputs": [
    {
     "output_type": "stream",
     "name": "stdout",
     "text": [
      "<class '__main__.BigObject'>\n"
     ]
    }
   ],
   "source": [
    "obj1 = BigObject() #instanciate\n",
    "obj2 = BigObject() #instanciate\n",
    "obj3 = BigObject() #instanciate\n",
    "print(type(obj1))"
   ]
  },
  {
   "cell_type": "code",
   "execution_count": 20,
   "metadata": {},
   "outputs": [
    {
     "output_type": "stream",
     "name": "stdout",
     "text": [
      "Cindy\nTom\n44\n21\nTrue\nTrue\nmy name is Cindy\nNone\nmy name is Tom\nNone\nmy name is Cindy\nNone\nmy name is Cindy\nNone\n"
     ]
    }
   ],
   "source": [
    "class PlayerCharacter:\n",
    "    #Class Object Attribute\n",
    "    membership = True\n",
    "    def __init__(self, name, age):\n",
    "        if (PlayerCharacter.membership):\n",
    "            self.name = name # attributes/properties\n",
    "            self.age = age\n",
    "\n",
    "    def shout(self):\n",
    "        print(f'my name is {self.name}')\n",
    "\n",
    "    def run(self, hello):\n",
    "        print(f'my name is {self.name}')\n",
    "\n",
    "player1 = PlayerCharacter('Cindy', 44)\n",
    "player2 = PlayerCharacter('Tom', 21)\n",
    "print(player1.name)\n",
    "print(player2.name)\n",
    "print(player1.age)\n",
    "print(player2.age)\n",
    "print(player1.membership)\n",
    "print(player2.membership)\n",
    "print(player1.shout())\n",
    "print(player2.shout())\n",
    "print(player1.run('hello'))\n",
    "print(player1.shout())"
   ]
  },
  {
   "source": [
    "- Pyhton is a dynamic type, general purpose any kinds of application: web application, networking application , OOP programming language.\n",
    "- Python is a scripting or an interpreting programming language\n",
    "\n",
    "- In Python everything is an object\n",
    "- In Python, we can use the gloabl function 'type()' to examine the type of class of any object\n",
    "- for example, basic types objects\n"
   ],
   "cell_type": "markdown",
   "metadata": {}
  },
  {
   "cell_type": "code",
   "execution_count": 24,
   "metadata": {},
   "outputs": [
    {
     "output_type": "execute_result",
     "data": {
      "text/plain": [
       "str"
      ]
     },
     "metadata": {},
     "execution_count": 24
    }
   ],
   "source": [
    "s = ' I am a string'\n",
    "type(s)"
   ]
  },
  {
   "cell_type": "code",
   "execution_count": 25,
   "metadata": {},
   "outputs": [
    {
     "output_type": "execute_result",
     "data": {
      "text/plain": [
       "int"
      ]
     },
     "metadata": {},
     "execution_count": 25
    }
   ],
   "source": [
    "number = 100\n",
    "type(number)"
   ]
  },
  {
   "cell_type": "code",
   "execution_count": 26,
   "metadata": {},
   "outputs": [
    {
     "output_type": "execute_result",
     "data": {
      "text/plain": [
       "list"
      ]
     },
     "metadata": {},
     "execution_count": 26
    }
   ],
   "source": [
    "l = [1,2,3,4,5]\n",
    "type(l)\n"
   ]
  },
  {
   "cell_type": "code",
   "execution_count": 28,
   "metadata": {},
   "outputs": [
    {
     "output_type": "execute_result",
     "data": {
      "text/plain": [
       "tuple"
      ]
     },
     "metadata": {},
     "execution_count": 28
    }
   ],
   "source": [
    "t = (1,2,3,4,5)\n",
    "type(t)"
   ]
  },
  {
   "cell_type": "code",
   "execution_count": 29,
   "metadata": {},
   "outputs": [
    {
     "output_type": "stream",
     "name": "stdout",
     "text": [
      "hello\n"
     ]
    }
   ],
   "source": [
    "# how about function\n",
    "print('hello')"
   ]
  },
  {
   "cell_type": "code",
   "execution_count": 30,
   "metadata": {},
   "outputs": [
    {
     "output_type": "execute_result",
     "data": {
      "text/plain": [
       "builtin_function_or_method"
      ]
     },
     "metadata": {},
     "execution_count": 30
    }
   ],
   "source": [
    "type(print)"
   ]
  },
  {
   "cell_type": "code",
   "execution_count": 31,
   "metadata": {},
   "outputs": [
    {
     "output_type": "execute_result",
     "data": {
      "text/plain": [
       "type"
      ]
     },
     "metadata": {},
     "execution_count": 31
    }
   ],
   "source": [
    "type(type)"
   ]
  },
  {
   "cell_type": "code",
   "execution_count": 33,
   "metadata": {},
   "outputs": [],
   "source": [
    "# how about our custom function\n",
    "def say_hello(name):\n",
    "    print(f'hello {name}')\n",
    "    "
   ]
  },
  {
   "cell_type": "code",
   "execution_count": 34,
   "metadata": {},
   "outputs": [
    {
     "output_type": "stream",
     "name": "stdout",
     "text": [
      "hello Maia\n"
     ]
    }
   ],
   "source": [
    "say_hello('Maia')"
   ]
  },
  {
   "cell_type": "code",
   "execution_count": 35,
   "metadata": {},
   "outputs": [
    {
     "output_type": "execute_result",
     "data": {
      "text/plain": [
       "function"
      ]
     },
     "metadata": {},
     "execution_count": 35
    }
   ],
   "source": [
    "type(say_hello)"
   ]
  },
  {
   "cell_type": "code",
   "execution_count": 46,
   "metadata": {},
   "outputs": [],
   "source": [
    "# How to define a class in Python?\n",
    "class Animal:\n",
    "    # Attributes\n",
    "    legs = 4\n",
    "    tails = 0\n",
    "    \n",
    "    # init method\n",
    "    def __init__(self, legs, tails):\n",
    "        #store the params into the object itself\n",
    "        self.legs = legs\n",
    "        self.tails = tails\n",
    "    \n",
    "    # methods\n",
    "    def talk(self):\n",
    "            print(f'Hello, I have {self.legs} legs and {self.tails} tails')"
   ]
  },
  {
   "cell_type": "code",
   "execution_count": 47,
   "metadata": {},
   "outputs": [],
   "source": [
    "# How do we create or instantiate an object from a class?\n",
    "animal1 = Animal(2,1)"
   ]
  },
  {
   "cell_type": "code",
   "execution_count": 42,
   "metadata": {},
   "outputs": [],
   "source": [
    "# What really happen when an object is instantiated?\n",
    "    # Python create the object in memory\n",
    "    # then, class the __init__method and pass in the object to the first param (i.e.self)\n",
    "    # And, pass in other params from the instantiation as other params in the __init__\n"
   ]
  },
  {
   "cell_type": "code",
   "execution_count": 48,
   "metadata": {},
   "outputs": [
    {
     "output_type": "execute_result",
     "data": {
      "text/plain": [
       "2"
      ]
     },
     "metadata": {},
     "execution_count": 48
    }
   ],
   "source": [
    "# How to access an object attribute\n",
    "animal1.legs"
   ]
  },
  {
   "cell_type": "code",
   "execution_count": 49,
   "metadata": {},
   "outputs": [
    {
     "output_type": "stream",
     "name": "stdout",
     "text": [
      "Hello, I have 2 legs and 1 tails\n"
     ]
    }
   ],
   "source": [
    "# How to call or invoke an object method?\n",
    "animal1.talk()"
   ]
  },
  {
   "cell_type": "code",
   "execution_count": 52,
   "metadata": {},
   "outputs": [],
   "source": [
    "# What happen if we define a class that does NOT have any function?\n",
    "class Book:\n",
    "    # Attributes\n",
    "    author = 'Maia'\n",
    "    title = 'My book'\n",
    "    pages = 100"
   ]
  },
  {
   "cell_type": "code",
   "execution_count": 53,
   "metadata": {},
   "outputs": [
    {
     "output_type": "execute_result",
     "data": {
      "text/plain": [
       "'Maia'"
      ]
     },
     "metadata": {},
     "execution_count": 53
    }
   ],
   "source": [
    "# access atribute\n",
    "Book.author"
   ]
  },
  {
   "cell_type": "code",
   "execution_count": 55,
   "metadata": {},
   "outputs": [
    {
     "output_type": "execute_result",
     "data": {
      "text/plain": [
       "__main__.Book"
      ]
     },
     "metadata": {},
     "execution_count": 55
    }
   ],
   "source": [
    "# How can we instantiate an object form the Book class?\n",
    "book1 = Book()\n",
    "# Check type\n",
    "type(book1)"
   ]
  },
  {
   "cell_type": "code",
   "execution_count": 56,
   "metadata": {},
   "outputs": [
    {
     "output_type": "execute_result",
     "data": {
      "text/plain": [
       "True"
      ]
     },
     "metadata": {},
     "execution_count": 56
    }
   ],
   "source": [
    "# Check if an object is an instance of a class\n",
    "isinstance(book1, Book)"
   ]
  },
  {
   "cell_type": "code",
   "execution_count": 57,
   "metadata": {},
   "outputs": [],
   "source": [
    "# Why we did NOT define the __init__ method, but still can instantiate object?\n",
    "# => Because Python will define a default __itit__with NO params if we don't define any __init__ method"
   ]
  },
  {
   "cell_type": "code",
   "execution_count": 61,
   "metadata": {},
   "outputs": [],
   "source": [
    "# try to define a custome __init__\n",
    "class Book:\n",
    "    #Attributes\n",
    "    author = 'Maia'\n",
    "    title = 'My book'\n",
    "    pages = 100\n",
    "    def __init__(self, author, title, pages):\n",
    "        self.author = author\n",
    "        self.title = title\n",
    "        self.pages = pages"
   ]
  },
  {
   "cell_type": "code",
   "execution_count": 62,
   "metadata": {},
   "outputs": [],
   "source": [
    "# Now we can instantiate an object using the custome __init_\n",
    "book2 = Book('Myra', 'A Good Book', 50)"
   ]
  },
  {
   "cell_type": "code",
   "execution_count": 64,
   "metadata": {},
   "outputs": [
    {
     "output_type": "execute_result",
     "data": {
      "text/plain": [
       "'Myra'"
      ]
     },
     "metadata": {},
     "execution_count": 64
    }
   ],
   "source": [
    "# Access\n",
    "book2.author\n"
   ]
  },
  {
   "cell_type": "code",
   "execution_count": 65,
   "metadata": {},
   "outputs": [
    {
     "output_type": "error",
     "ename": "TypeError",
     "evalue": "__init__() missing 3 required positional arguments: 'author', 'title', and 'pages'",
     "traceback": [
      "\u001b[0;31m---------------------------------------------------------------------------\u001b[0m",
      "\u001b[0;31mTypeError\u001b[0m                                 Traceback (most recent call last)",
      "\u001b[0;32m<ipython-input-65-e20f5da30b78>\u001b[0m in \u001b[0;36m<module>\u001b[0;34m()\u001b[0m\n\u001b[1;32m      1\u001b[0m \u001b[0;31m# Accesse an object without using the custome __init__\u001b[0m\u001b[0;34m\u001b[0m\u001b[0;34m\u001b[0m\u001b[0m\n\u001b[0;32m----> 2\u001b[0;31m \u001b[0mbook3\u001b[0m \u001b[0;34m=\u001b[0m \u001b[0mBook\u001b[0m\u001b[0;34m(\u001b[0m\u001b[0;34m)\u001b[0m\u001b[0;34m\u001b[0m\u001b[0m\n\u001b[0m",
      "\u001b[0;31mTypeError\u001b[0m: __init__() missing 3 required positional arguments: 'author', 'title', and 'pages'"
     ]
    }
   ],
   "source": [
    "#  Try to instantiate an object without using the custome __init__. It will throw an error\n",
    "book3 = Book()"
   ]
  },
  {
   "cell_type": "code",
   "execution_count": 74,
   "metadata": {},
   "outputs": [],
   "source": [
    "# How about if we want to define another __init__\n",
    "class Book:\n",
    "    # Attributes\n",
    "    author = 'Maia'\n",
    "    title = 'My book'\n",
    "    pages = 100\n",
    "    def __init__(self, author, title, pages):\n",
    "        self.author = author\n",
    "        self.title = title\n",
    "        self.pages = pages\n",
    "\n",
    "    def __init__ (self):\n",
    "        self.author = 'adf'\n",
    "        self.title = Book.title\n",
    "        self.pages = Book.pages\n"
   ]
  },
  {
   "cell_type": "code",
   "execution_count": 75,
   "metadata": {},
   "outputs": [],
   "source": [
    "book4 = Book()"
   ]
  },
  {
   "cell_type": "code",
   "execution_count": 76,
   "metadata": {},
   "outputs": [
    {
     "output_type": "stream",
     "name": "stdout",
     "text": [
      "adf\nMy book\n"
     ]
    }
   ],
   "source": [
    "print(book4.author)\n",
    "print(book4.title)"
   ]
  },
  {
   "cell_type": "code",
   "execution_count": 77,
   "metadata": {},
   "outputs": [],
   "source": [
    "# Conclusion:\n",
    "# When we define MANY __init__, the last one will overwrite all previous ones.\n",
    "# __init__ purpose is to control instantiate params."
   ]
  },
  {
   "cell_type": "code",
   "execution_count": 82,
   "metadata": {},
   "outputs": [],
   "source": [
    "# What is a class function\n",
    "class Car:\n",
    "    # Attributes:\n",
    "    make = ''\n",
    "    model = ''\n",
    "    # __init__\n",
    "    def __init__(self, make, model):\n",
    "        self.make = make\n",
    "        self.model = model\n",
    "\n",
    "    # This is a class function, NOT an object instance method.\n",
    "    def run():\n",
    "        print(f'callings a class function')\n",
    "\n",
    "   "
   ]
  },
  {
   "cell_type": "code",
   "execution_count": 84,
   "metadata": {},
   "outputs": [],
   "source": [
    "# instantiate:\n",
    "car1 = Car('Honda', 'Fit')\n",
    "    "
   ]
  },
  {
   "cell_type": "code",
   "execution_count": 85,
   "metadata": {},
   "outputs": [
    {
     "output_type": "error",
     "ename": "TypeError",
     "evalue": "run() takes 0 positional arguments but 1 was given",
     "traceback": [
      "\u001b[0;31m---------------------------------------------------------------------------\u001b[0m",
      "\u001b[0;31mTypeError\u001b[0m                                 Traceback (most recent call last)",
      "\u001b[0;32m<ipython-input-85-4d870f33ed09>\u001b[0m in \u001b[0;36m<module>\u001b[0;34m()\u001b[0m\n\u001b[1;32m      1\u001b[0m \u001b[0;31m# can we call the run() function?\u001b[0m\u001b[0;34m\u001b[0m\u001b[0;34m\u001b[0m\u001b[0m\n\u001b[0;32m----> 2\u001b[0;31m \u001b[0mcar1\u001b[0m\u001b[0;34m.\u001b[0m\u001b[0mrun\u001b[0m\u001b[0;34m(\u001b[0m\u001b[0;34m)\u001b[0m\u001b[0;34m\u001b[0m\u001b[0m\n\u001b[0m",
      "\u001b[0;31mTypeError\u001b[0m: run() takes 0 positional arguments but 1 was given"
     ]
    }
   ],
   "source": [
    "# can we call the run() function from object? - NO\n",
    "car1.run()"
   ]
  },
  {
   "cell_type": "code",
   "execution_count": 86,
   "metadata": {},
   "outputs": [
    {
     "output_type": "stream",
     "name": "stdout",
     "text": [
      "callings a class function\n"
     ]
    }
   ],
   "source": [
    "# can we call the run() function from the class\n",
    "Car.run()"
   ]
  },
  {
   "cell_type": "code",
   "execution_count": 87,
   "metadata": {},
   "outputs": [],
   "source": [
    "# Conclusion:\n",
    "# This is because run() is a regular function belonged to class Car. It is NOT an object method."
   ]
  },
  {
   "cell_type": "code",
   "execution_count": 88,
   "metadata": {},
   "outputs": [],
   "source": [
    "# define an object method:\n",
    "class Car:\n",
    "    # Attributes:\n",
    "    make = ''\n",
    "    model = ''\n",
    "    # __init__\n",
    "    def __init__(self, make, model):\n",
    "        self.make = make\n",
    "        self.model = model\n",
    "\n",
    "    # This is a class function, NOT an object instance method.\n",
    "    def run():\n",
    "        print(f'callings a class function')\n",
    "    \n",
    "    # This is an object method:\n",
    "    def start(self):\n",
    "        print(f'Starting the car ...')"
   ]
  },
  {
   "cell_type": "code",
   "execution_count": 89,
   "metadata": {},
   "outputs": [],
   "source": [
    "car2 = Car('Toyota','Camry')"
   ]
  },
  {
   "cell_type": "code",
   "execution_count": 90,
   "metadata": {},
   "outputs": [
    {
     "output_type": "stream",
     "name": "stdout",
     "text": [
      "Starting the car ...\n"
     ]
    }
   ],
   "source": [
    "# Call object method\n",
    "car2.start()"
   ]
  },
  {
   "cell_type": "code",
   "execution_count": 91,
   "metadata": {},
   "outputs": [],
   "source": [
    "# So, we know a class function is different from an object method\n",
    "# Can we define a method that can be used the same in both class & object?\n",
    "# Yes, it is called class method"
   ]
  },
  {
   "cell_type": "code",
   "execution_count": 93,
   "metadata": {},
   "outputs": [],
   "source": [
    "class Car:\n",
    "    # Attributes:\n",
    "    make = ''\n",
    "    model = ''\n",
    "    # __init__\n",
    "    def __init__(self, make, model):\n",
    "        self.make = make\n",
    "        self.model = model\n",
    "\n",
    "    # This is a class function, NOT an object instance method.\n",
    "    def run():\n",
    "        print(f'callings a class function')\n",
    "    # this is a classmethod\n",
    "    @classmethod\n",
    "    def say(cls):\n",
    "        print('Beep beep ...')\n"
   ]
  },
  {
   "cell_type": "code",
   "execution_count": 94,
   "metadata": {},
   "outputs": [
    {
     "output_type": "stream",
     "name": "stdout",
     "text": [
      "Beep beep ...\n"
     ]
    }
   ],
   "source": [
    "car4 = Car('Honda', 'Fit')\n",
    "car4.say()"
   ]
  },
  {
   "cell_type": "code",
   "execution_count": 96,
   "metadata": {},
   "outputs": [
    {
     "output_type": "stream",
     "name": "stdout",
     "text": [
      "Beep beep ...\n"
     ]
    }
   ],
   "source": [
    "Car.say()"
   ]
  },
  {
   "cell_type": "code",
   "execution_count": 97,
   "metadata": {},
   "outputs": [],
   "source": [
    "# Can we define a method that static for the class and all its instances\n",
    "# or a staticmethod"
   ]
  },
  {
   "cell_type": "code",
   "execution_count": 98,
   "metadata": {},
   "outputs": [],
   "source": [
    "class Car:\n",
    "    # Attributes:\n",
    "    make = ''\n",
    "    model = ''\n",
    "    # __init__\n",
    "    def __init__(self, make, model):\n",
    "        self.make = make\n",
    "        self.model = model\n",
    "\n",
    "    # This is a class function, NOT an object instance method.\n",
    "    def run():\n",
    "        print(f'callings a class function')\n",
    "    # this is a classmethod\n",
    "    @classmethod\n",
    "    def say(cls):\n",
    "        print('Beep beep ...')\n",
    "    # this is a staticmethod\n",
    "    @staticmethod\n",
    "    def park():\n",
    "        print(f'I am a parking ...')\n",
    "        "
   ]
  },
  {
   "cell_type": "code",
   "execution_count": 99,
   "metadata": {},
   "outputs": [
    {
     "output_type": "stream",
     "name": "stdout",
     "text": [
      "I am a parking ...\n"
     ]
    }
   ],
   "source": [
    "car5 = Car ('Honda', 'Fit')\n",
    "car5.park()"
   ]
  },
  {
   "cell_type": "code",
   "execution_count": 100,
   "metadata": {},
   "outputs": [
    {
     "output_type": "stream",
     "name": "stdout",
     "text": [
      "I am a parking ...\n"
     ]
    }
   ],
   "source": [
    "Car.park()"
   ]
  },
  {
   "cell_type": "code",
   "execution_count": null,
   "metadata": {},
   "outputs": [],
   "source": [
    "# Review\n",
    "class NameOfClass():\n",
    "    class_attribute = 'value'\n",
    "    def __itit__(self, param1, param2):\n",
    "        self.param1 = param1\n",
    "        self.param2 = param2\n",
    "\n",
    "    def method(self):\n",
    "        #code\n",
    "    \n",
    "    @classmethod\n",
    "    def cls_method(cls, param1, param2):\n",
    "        #code\n",
    "\n",
    "    @staticmethod\n",
    "    def stc_method(param1, param2):\n",
    "        #code\n",
    "        "
   ]
  },
  {
   "cell_type": "code",
   "execution_count": null,
   "metadata": {},
   "outputs": [],
   "source": []
  }
 ]
}
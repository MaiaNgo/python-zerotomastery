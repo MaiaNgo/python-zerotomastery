{
 "metadata": {
  "language_info": {
   "codemirror_mode": {
    "name": "ipython",
    "version": 3
   },
   "file_extension": ".py",
   "mimetype": "text/x-python",
   "name": "python",
   "nbconvert_exporter": "python",
   "pygments_lexer": "ipython3",
   "version": "3.6.6-final"
  },
  "orig_nbformat": 2,
  "kernelspec": {
   "name": "python3",
   "display_name": "Python 3",
   "language": "python"
  }
 },
 "nbformat": 4,
 "nbformat_minor": 2,
 "cells": [
  {
   "cell_type": "code",
   "execution_count": 1,
   "metadata": {},
   "outputs": [
    {
     "output_type": "stream",
     "name": "stdout",
     "text": [
      "<class 'NoneType'>\n<class 'bool'>\n<class 'int'>\n<class 'float'>\n<class 'str'>\n<class 'list'>\n<class 'tuple'>\n<class 'dict'>\n"
     ]
    }
   ],
   "source": [
    "# OOP\n",
    "print(type(None))\n",
    "print(type(True))\n",
    "print(type(5))\n",
    "print(type(5.5))\n",
    "print(type('hi'))\n",
    "print(type([]))\n",
    "print(type(()))\n",
    "print(type({}))\n"
   ]
  },
  {
   "cell_type": "code",
   "execution_count": 2,
   "metadata": {},
   "outputs": [
    {
     "output_type": "stream",
     "name": "stdout",
     "text": [
      "<class 'type'>\n"
     ]
    }
   ],
   "source": [
    "class BigObject: # Class\n",
    "    # code\n",
    "    pass\n",
    "print(type(BigObject))"
   ]
  },
  {
   "cell_type": "code",
   "execution_count": 3,
   "metadata": {},
   "outputs": [
    {
     "output_type": "stream",
     "name": "stdout",
     "text": [
      "<class '__main__.BigObject'>\n"
     ]
    }
   ],
   "source": [
    "obj1 = BigObject() #instanciate\n",
    "obj2 = BigObject() #instanciate\n",
    "obj3 = BigObject() #instanciate\n",
    "print(type(obj1))"
   ]
  },
  {
   "cell_type": "code",
   "execution_count": 20,
   "metadata": {},
   "outputs": [
    {
     "output_type": "stream",
     "name": "stdout",
     "text": [
      "Cindy\nTom\n44\n21\nTrue\nTrue\nmy name is Cindy\nNone\nmy name is Tom\nNone\nmy name is Cindy\nNone\nmy name is Cindy\nNone\n"
     ]
    }
   ],
   "source": [
    "class PlayerCharacter:\n",
    "    #Class Object Attribute\n",
    "    membership = True\n",
    "    def __init__(self, name, age):\n",
    "        if (PlayerCharacter.membership):\n",
    "            self.name = name # attributes/properties\n",
    "            self.age = age\n",
    "\n",
    "    def shout(self):\n",
    "        print(f'my name is {self.name}')\n",
    "\n",
    "    def run(self, hello):\n",
    "        print(f'my name is {self.name}')\n",
    "\n",
    "player1 = PlayerCharacter('Cindy', 44)\n",
    "player2 = PlayerCharacter('Tom', 21)\n",
    "print(player1.name)\n",
    "print(player2.name)\n",
    "print(player1.age)\n",
    "print(player2.age)\n",
    "print(player1.membership)\n",
    "print(player2.membership)\n",
    "print(player1.shout())\n",
    "print(player2.shout())\n",
    "print(player1.run('hello'))\n",
    "print(player1.shout())"
   ]
  },
  {
   "cell_type": "code",
   "execution_count": null,
   "metadata": {},
   "outputs": [],
   "source": []
  }
 ]
}
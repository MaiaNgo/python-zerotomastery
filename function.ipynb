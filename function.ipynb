{
 "metadata": {
  "language_info": {
   "codemirror_mode": {
    "name": "ipython",
    "version": 3
   },
   "file_extension": ".py",
   "mimetype": "text/x-python",
   "name": "python",
   "nbconvert_exporter": "python",
   "pygments_lexer": "ipython3",
   "version": "3.6.6-final"
  },
  "orig_nbformat": 2,
  "kernelspec": {
   "name": "python3",
   "display_name": "Python 3"
  }
 },
 "nbformat": 4,
 "nbformat_minor": 2,
 "cells": [
  {
   "source": [
    "## FUNCTIONS\n"
   ],
   "cell_type": "markdown",
   "metadata": {}
  },
  {
   "cell_type": "code",
   "execution_count": 3,
   "metadata": {},
   "outputs": [
    {
     "output_type": "stream",
     "name": "stdout",
     "text": [
      "hellllloooooooo\n"
     ]
    }
   ],
   "source": [
    "def say_hello():\n",
    "    print('hellllloooooooo')\n",
    "\n",
    "\n",
    "say_hello() # We have to call the function "
   ]
  },
  {
   "cell_type": "code",
   "execution_count": 7,
   "metadata": {},
   "outputs": [],
   "source": [
    "picture = [\n",
    "    [0,0,0,1,0,0,0],\n",
    "    [0,0,1,1,1,0,0],\n",
    "    [0,1,1,1,1,1,0],\n",
    "    [1,1,1,1,1,1,1],\n",
    "    [0,0,0,1,0,0,0],\n",
    "    [0,0,0,1,0,0,0]\n",
    "]\n",
    "def show_chrismas_tree():\n",
    "    fill = '*' # later we can change to whatever symbol we like while we don't need to change codes below\n",
    "    empty = ' '\n",
    "    for row in picture:\n",
    "        for pixel in row:\n",
    "            if pixel == 1:\n",
    "                print(fill, end = '')\n",
    "            else:\n",
    "                print(empty, end = '')\n",
    "        print('')\n"
   ]
  },
  {
   "cell_type": "code",
   "execution_count": 8,
   "metadata": {},
   "outputs": [
    {
     "output_type": "stream",
     "name": "stdout",
     "text": [
      "   *   \n  ***  \n ***** \n*******\n   *   \n   *   \n   *   \n  ***  \n ***** \n*******\n   *   \n   *   \n   *   \n  ***  \n ***** \n*******\n   *   \n   *   \n"
     ]
    }
   ],
   "source": [
    "show_chrismas_tree()\n",
    "show_chrismas_tree()\n",
    "show_chrismas_tree()"
   ]
  },
  {
   "cell_type": "code",
   "execution_count": null,
   "metadata": {},
   "outputs": [],
   "source": []
  }
 ]
}
{
 "metadata": {
  "language_info": {
   "codemirror_mode": {
    "name": "ipython",
    "version": 3
   },
   "file_extension": ".py",
   "mimetype": "text/x-python",
   "name": "python",
   "nbconvert_exporter": "python",
   "pygments_lexer": "ipython3",
   "version": "3.6.6-final"
  },
  "orig_nbformat": 2,
  "kernelspec": {
   "name": "python3",
   "display_name": "Python 3"
  }
 },
 "nbformat": 4,
 "nbformat_minor": 2,
 "cells": [
  {
   "source": [
    "# CONDITIONAL LOGIC"
   ],
   "cell_type": "markdown",
   "metadata": {}
  },
  {
   "cell_type": "code",
   "execution_count": 12,
   "metadata": {},
   "outputs": [
    {
     "output_type": "stream",
     "name": "stdout",
     "text": [
      "You are old enough to drive\ncheckcheck\n"
     ]
    }
   ],
   "source": [
    "is_old = True\n",
    "is_licenced = True\n",
    "\n",
    "if is_old:\n",
    "    print('You are old enough to drive')\n",
    "print('checkcheck')    \n"
   ]
  },
  {
   "cell_type": "code",
   "execution_count": 13,
   "metadata": {},
   "outputs": [
    {
     "output_type": "stream",
     "name": "stdout",
     "text": [
      "checheck\n"
     ]
    }
   ],
   "source": [
    "is_old = False\n",
    "is_licenced = True\n",
    "\n",
    "if is_old:\n",
    "    print('You are old enough to drive')\n",
    "print('checheck')\n"
   ]
  },
  {
   "cell_type": "code",
   "execution_count": 14,
   "metadata": {},
   "outputs": [
    {
     "output_type": "stream",
     "name": "stdout",
     "text": [
      "You are old enough to drive\n"
     ]
    }
   ],
   "source": [
    "is_old = True\n",
    "is_licenced = True\n",
    "\n",
    "if is_old:\n",
    "    print('You are old enough to drive')\n",
    "else:    \n",
    "    print('checheck')\n"
   ]
  },
  {
   "cell_type": "code",
   "execution_count": 15,
   "metadata": {},
   "outputs": [
    {
     "output_type": "stream",
     "name": "stdout",
     "text": [
      "checheck\n"
     ]
    }
   ],
   "source": [
    "is_old = False\n",
    "is_licenced = True\n",
    "\n",
    "if is_old:\n",
    "    print('You are old enough to drive')\n",
    "else:    \n",
    "    print('checheck')\n"
   ]
  },
  {
   "cell_type": "code",
   "execution_count": 16,
   "metadata": {},
   "outputs": [
    {
     "output_type": "stream",
     "name": "stdout",
     "text": [
      "You are old enough to drive\nWell done\n"
     ]
    }
   ],
   "source": [
    "is_old = True\n",
    "is_licenced = True\n",
    "\n",
    "if is_old:\n",
    "    print('You are old enough to drive')\n",
    "elif is_licenced:\n",
    "    print('You can drive now')\n",
    "else:    \n",
    "    print('You are not of age')\n",
    "print('Well done')\n"
   ]
  },
  {
   "cell_type": "code",
   "execution_count": 17,
   "metadata": {},
   "outputs": [
    {
     "output_type": "stream",
     "name": "stdout",
     "text": [
      "You can drive now\nWell done\n"
     ]
    }
   ],
   "source": [
    "is_old = False\n",
    "is_licenced = True\n",
    "\n",
    "if is_old:\n",
    "    print('You are old enough to drive')\n",
    "elif is_licenced:\n",
    "    print('You can drive now')\n",
    "else:    \n",
    "    print('You are not of age')\n",
    "print('Well done')"
   ]
  },
  {
   "cell_type": "code",
   "execution_count": 18,
   "metadata": {},
   "outputs": [
    {
     "output_type": "stream",
     "name": "stdout",
     "text": [
      "You are not of age\nWell done\n"
     ]
    }
   ],
   "source": [
    "is_old = False\n",
    "is_licenced = False\n",
    "\n",
    "if is_old:\n",
    "    print('You are old enough to drive')\n",
    "elif is_licenced:  # You can have multiple elif\n",
    "    print('You can drive now')\n",
    "else:    \n",
    "    print('You are not of age')\n",
    "print('Well done')"
   ]
  },
  {
   "cell_type": "code",
   "execution_count": 21,
   "metadata": {},
   "outputs": [
    {
     "output_type": "stream",
     "name": "stdout",
     "text": [
      "You have licence, You can drive now\nWell done\n"
     ]
    }
   ],
   "source": [
    "is_old = True\n",
    "is_licenced = True\n",
    "\n",
    "if is_old and is_licenced:\n",
    "    print('You have licence, You can drive now')\n",
    "else:    \n",
    "    print('You are not of age')\n",
    "print('Well done')"
   ]
  },
  {
   "cell_type": "code",
   "execution_count": 22,
   "metadata": {},
   "outputs": [
    {
     "output_type": "stream",
     "name": "stdout",
     "text": [
      "You are not of age\nWell done\n"
     ]
    }
   ],
   "source": [
    "is_old = False\n",
    "is_licenced = True\n",
    "\n",
    "if is_old and is_licenced:\n",
    "    print('You have licence, You can drive now')\n",
    "else:    \n",
    "    print('You are not of age')\n",
    "print('Well done')"
   ]
  },
  {
   "cell_type": "code",
   "execution_count": 23,
   "metadata": {},
   "outputs": [
    {
     "output_type": "stream",
     "name": "stdout",
     "text": [
      "You are not of age\nWell done\n"
     ]
    }
   ],
   "source": [
    "is_old = True\n",
    "is_licenced = False\n",
    "\n",
    "if is_old and is_licenced:\n",
    "    print('You have licence, You can drive now')\n",
    "else:    \n",
    "    print('You are not of age')\n",
    "print('Well done')"
   ]
  },
  {
   "cell_type": "code",
   "execution_count": 24,
   "metadata": {},
   "outputs": [
    {
     "output_type": "stream",
     "name": "stdout",
     "text": [
      "You are not of age\nWell done\n"
     ]
    }
   ],
   "source": [
    "is_old = False\n",
    "is_licenced = False\n",
    "\n",
    "if is_old and is_licenced:\n",
    "    print('You have licence, You can drive now')\n",
    "else:    \n",
    "    print('You are not of age')\n",
    "print('Well done')"
   ]
  },
  {
   "source": [
    "## TRUTHY & FALSY"
   ],
   "cell_type": "markdown",
   "metadata": {}
  },
  {
   "cell_type": "code",
   "execution_count": 26,
   "metadata": {},
   "outputs": [
    {
     "output_type": "stream",
     "name": "stdout",
     "text": [
      "You have licence, You can drive now\nWell done\n"
     ]
    }
   ],
   "source": [
    "is_old = bool('hello')\n",
    "is_licenced = bool(5)\n",
    "if is_old and is_licenced:\n",
    "    print('You have licence, You can drive now')\n",
    "else:    \n",
    "    print('You are not of age')\n",
    "print('Well done')"
   ]
  },
  {
   "source": [
    "\n",
    "## TERNARY OPERATOR"
   ],
   "cell_type": "markdown",
   "metadata": {}
  },
  {
   "cell_type": "code",
   "execution_count": 31,
   "metadata": {},
   "outputs": [
    {
     "output_type": "stream",
     "name": "stdout",
     "text": [
      "message allowed\n"
     ]
    }
   ],
   "source": [
    "# condition_if_True if condition else condition_if_false\n",
    "is_friend = True\n",
    "can_message = 'message allowed' if is_friend else 'not allowed to message'\n",
    "print(can_message)"
   ]
  },
  {
   "cell_type": "code",
   "execution_count": 32,
   "metadata": {},
   "outputs": [
    {
     "output_type": "stream",
     "name": "stdout",
     "text": [
      "not allowed to message\n"
     ]
    }
   ],
   "source": [
    "is_friend = False\n",
    "can_message = 'message allowed' if is_friend else 'not allowed to message'\n",
    "print(can_message)"
   ]
  },
  {
   "source": [
    "## SHORT CIRCUITING"
   ],
   "cell_type": "markdown",
   "metadata": {}
  },
  {
   "cell_type": "code",
   "execution_count": 33,
   "metadata": {},
   "outputs": [
    {
     "output_type": "stream",
     "name": "stdout",
     "text": [
      "True\n"
     ]
    }
   ],
   "source": [
    "is_Friend = True\n",
    "is_User = True\n",
    "print(is_Friend and is_User)"
   ]
  },
  {
   "cell_type": "code",
   "execution_count": 34,
   "metadata": {},
   "outputs": [
    {
     "output_type": "stream",
     "name": "stdout",
     "text": [
      "best friend forever\n"
     ]
    }
   ],
   "source": [
    "if is_Friend and is_User:\n",
    "    print('best friend forever')"
   ]
  },
  {
   "cell_type": "code",
   "execution_count": 35,
   "metadata": {},
   "outputs": [
    {
     "output_type": "stream",
     "name": "stdout",
     "text": [
      "best friend forever\n"
     ]
    }
   ],
   "source": [
    "if is_Friend or is_User:\n",
    "    print('best friend forever')"
   ]
  },
  {
   "source": [
    "## LOGICAL OPERATORS\n",
    "\n"
   ],
   "cell_type": "markdown",
   "metadata": {}
  },
  {
   "cell_type": "code",
   "execution_count": 37,
   "metadata": {},
   "outputs": [
    {
     "output_type": "stream",
     "name": "stdout",
     "text": [
      "False\nTrue\nFalse\n"
     ]
    }
   ],
   "source": [
    "print(4>5)\n",
    "print(5>4)\n",
    "print(4==5)"
   ]
  },
  {
   "cell_type": "code",
   "execution_count": 38,
   "metadata": {},
   "outputs": [
    {
     "output_type": "stream",
     "name": "stdout",
     "text": [
      "False\nTrue\n"
     ]
    }
   ],
   "source": [
    "print('a' > 'b')\n",
    "print('a' > 'A')"
   ]
  },
  {
   "cell_type": "code",
   "execution_count": 39,
   "metadata": {},
   "outputs": [
    {
     "output_type": "stream",
     "name": "stdout",
     "text": [
      "True\nFalse\n"
     ]
    }
   ],
   "source": [
    "print(1<2<3<4)\n",
    "print(1<2>3<4)"
   ]
  },
  {
   "cell_type": "code",
   "execution_count": 41,
   "metadata": {},
   "outputs": [
    {
     "output_type": "stream",
     "name": "stdout",
     "text": [
      "True\nFalse\n"
     ]
    }
   ],
   "source": [
    "print(4>=2)\n",
    "print(2!=2)"
   ]
  },
  {
   "cell_type": "code",
   "execution_count": 42,
   "metadata": {},
   "outputs": [
    {
     "output_type": "stream",
     "name": "stdout",
     "text": [
      "False\nFalse\n"
     ]
    }
   ],
   "source": [
    "print(not(True))\n",
    "print(not(1==1))"
   ]
  },
  {
   "cell_type": "code",
   "execution_count": 46,
   "metadata": {},
   "outputs": [
    {
     "output_type": "stream",
     "name": "stdout",
     "text": [
      "You need magic powers\n"
     ]
    }
   ],
   "source": [
    "is_magician = False\n",
    "is_expert = True\n",
    "\n",
    "if is_magician and is_expert:\n",
    "    print('You are a master magician')\n",
    "elif is_magician and not(is_expert):\n",
    "    print('At least you are getting there')\n",
    "else:\n",
    "    print('You need magic powers')"
   ]
  },
  {
   "cell_type": "code",
   "execution_count": 51,
   "metadata": {},
   "outputs": [
    {
     "output_type": "stream",
     "name": "stdout",
     "text": [
      "You need magic powers\n"
     ]
    }
   ],
   "source": [
    "is_magician = False\n",
    "is_expert = True\n",
    "\n",
    "if is_magician and is_expert:\n",
    "    print('You are a master magician')\n",
    "elif is_magician and not(is_expert):\n",
    "    print('At least you are getting there')\n",
    "elif not is_magician:\n",
    "    print('You need magic powers')"
   ]
  },
  {
   "cell_type": "code",
   "execution_count": 50,
   "metadata": {},
   "outputs": [
    {
     "output_type": "stream",
     "name": "stdout",
     "text": [
      "You need magic powers\n"
     ]
    }
   ],
   "source": [
    "is_magician = False\n",
    "is_expert = True\n",
    "\n",
    "if is_magician and is_expert:\n",
    "    print('You are a master magician')\n",
    "elif is_magician and not(is_expert):\n",
    "    print('At least you are getting there')\n",
    "else:\n",
    "    print('You need magic powers')"
   ]
  },
  {
   "cell_type": "code",
   "execution_count": 48,
   "metadata": {},
   "outputs": [
    {
     "output_type": "stream",
     "name": "stdout",
     "text": [
      "At least you are getting there\n"
     ]
    }
   ],
   "source": [
    "is_magician = True\n",
    "is_expert = False\n",
    "\n",
    "if is_magician and is_expert:\n",
    "    print('You are a master magician')\n",
    "elif is_magician and not(is_expert):\n",
    "    print('At least you are getting there')\n",
    "else:\n",
    "    print('You need magic powers')"
   ]
  },
  {
   "cell_type": "code",
   "execution_count": null,
   "metadata": {},
   "outputs": [],
   "source": []
  }
 ]
}
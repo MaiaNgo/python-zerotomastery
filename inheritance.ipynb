{
 "metadata": {
  "language_info": {
   "codemirror_mode": {
    "name": "ipython",
    "version": 3
   },
   "file_extension": ".py",
   "mimetype": "text/x-python",
   "name": "python",
   "nbconvert_exporter": "python",
   "pygments_lexer": "ipython3",
   "version": "3.6.6-final"
  },
  "orig_nbformat": 2,
  "kernelspec": {
   "name": "python3",
   "display_name": "Python 3",
   "language": "python"
  }
 },
 "nbformat": 4,
 "nbformat_minor": 2,
 "cells": [
  {
   "cell_type": "code",
   "execution_count": 2,
   "metadata": {},
   "outputs": [
    {
     "output_type": "stream",
     "name": "stdout",
     "text": [
      "BOOOOO\n"
     ]
    }
   ],
   "source": [
    "# Private vs Public Variables\n",
    "# Private = should not be modified (if we want to keep a method or a attribute private, we just put _ in front of it) \n",
    "class PlayerCharacter:\n",
    "    def __init__(self, name, age):\n",
    "        self._name = name\n",
    "        self._age = age\n",
    "\n",
    "    def run(self):\n",
    "        print('run')\n",
    "\n",
    "    def speak(self):\n",
    "        print(f'my name is {self.name}, and I am {self.age} years old')\n",
    "\n",
    "player1 = PlayerCharacter('andrei', 100)\n",
    "player1.name = '!!!'\n",
    "player1.speak = 'BOOOOO'\n",
    "\n",
    "print(player1.speak)\n"
   ]
  },
  {
   "cell_type": "code",
   "execution_count": 6,
   "metadata": {},
   "outputs": [
    {
     "output_type": "stream",
     "name": "stdout",
     "text": [
      "<__main__.Wizard object at 0x7faa4ea12a58>\n"
     ]
    }
   ],
   "source": [
    "#\n",
    "class User:\n",
    "    def sign_in(self):\n",
    "        print('logged in')\n",
    "\n",
    "class Wizard(User):\n",
    "    pass\n",
    "\n",
    "class Archer(User):\n",
    "    pass\n",
    "\n",
    "wizard1 = Wizard()\n",
    "print(wizard1)"
   ]
  },
  {
   "cell_type": "code",
   "execution_count": 7,
   "metadata": {},
   "outputs": [
    {
     "output_type": "stream",
     "name": "stdout",
     "text": [
      "logged in\nNone\n"
     ]
    }
   ],
   "source": [
    "wizard1 = Wizard()\n",
    "print(wizard1.sign_in())"
   ]
  },
  {
   "cell_type": "code",
   "execution_count": 10,
   "metadata": {},
   "outputs": [
    {
     "output_type": "stream",
     "name": "stdout",
     "text": [
      "attacking with power of 50\n"
     ]
    }
   ],
   "source": [
    "#parent class\n",
    "class User:\n",
    "    def sign_in(self):\n",
    "        print('logged in')\n",
    "\n",
    "class Wizard(User):\n",
    "    #children class\n",
    "    def __init__(self, name, power):\n",
    "        self.name = name\n",
    "        self.power = power\n",
    "\n",
    "    def attack(self):\n",
    "        print(f'attacking with power of {self.power}')\n",
    "\n",
    "class Archer(User):\n",
    "    def __init__(self, name, num_arrows):\n",
    "        self.name = name\n",
    "        self.num_arrows = num_arrows\n",
    "\n",
    "    def attack(self):\n",
    "        print(f'attacking with arrows: arrows left- {self.num_arrows}')\n",
    "\n",
    "wizard1 = Wizard('Merlin',  50)\n",
    "archer1 = Archer('Robbin', 100)\n",
    "wizard1.attack()"
   ]
  },
  {
   "cell_type": "code",
   "execution_count": 11,
   "metadata": {},
   "outputs": [
    {
     "output_type": "stream",
     "name": "stdout",
     "text": [
      "attacking with arrows: arrows left- 100\n"
     ]
    }
   ],
   "source": [
    "archer1.attack()"
   ]
  },
  {
   "cell_type": "code",
   "execution_count": 12,
   "metadata": {},
   "outputs": [
    {
     "output_type": "stream",
     "name": "stdout",
     "text": [
      "True\n"
     ]
    }
   ],
   "source": [
    "wizard1 = Wizard('Merlin', 60)\n",
    "print(isinstance(wizard1, Wizard))"
   ]
  },
  {
   "cell_type": "code",
   "execution_count": 13,
   "metadata": {},
   "outputs": [
    {
     "output_type": "stream",
     "name": "stdout",
     "text": [
      "True\n"
     ]
    }
   ],
   "source": [
    "wizard1 = Wizard('Merlin', 60)\n",
    "print(isinstance(wizard1, User))"
   ]
  },
  {
   "cell_type": "code",
   "execution_count": 14,
   "metadata": {},
   "outputs": [
    {
     "output_type": "stream",
     "name": "stdout",
     "text": [
      "True\n"
     ]
    }
   ],
   "source": [
    "wizard1 = Wizard('Merlin', 60)\n",
    "print(isinstance(wizard1, object))"
   ]
  },
  {
   "cell_type": "code",
   "execution_count": null,
   "metadata": {},
   "outputs": [],
   "source": [
    "class User(object):\n",
    "    def sign_in(self):\n",
    "        print('logged in')\n",
    "\n",
    "class Wizard(User):\n",
    "    #children class\n",
    "    def __init__(self, name, power):\n",
    "        self.name = name\n",
    "        self.power = power\n",
    "\n",
    "    def attack(self):\n",
    "        print(f'attacking with power of {self.power}')\n",
    "\n",
    "class Archer(User):\n",
    "    def __init__(self, name, num_arrows):\n",
    "        self.name = name\n",
    "        self.num_arrows = num_arrows\n",
    "\n",
    "    def attack(self):\n",
    "        print(f'attacking with arrows: arrows left- {self.num_arrows}')\n",
    "\n",
    "wizard1 = Wizard('Merlin',  50)\n",
    "archer1 = Archer('Robbin', 100)\n",
    "wizard1.attack()"
   ]
  }
 ]
}
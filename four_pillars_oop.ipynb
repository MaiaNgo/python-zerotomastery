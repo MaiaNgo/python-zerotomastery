{
 "metadata": {
  "language_info": {
   "codemirror_mode": {
    "name": "ipython",
    "version": 3
   },
   "file_extension": ".py",
   "mimetype": "text/x-python",
   "name": "python",
   "nbconvert_exporter": "python",
   "pygments_lexer": "ipython3",
   "version": "3.6.6-final"
  },
  "orig_nbformat": 2,
  "kernelspec": {
   "name": "python3",
   "display_name": "Python 3",
   "language": "python"
  }
 },
 "nbformat": 4,
 "nbformat_minor": 2,
 "cells": [
  {
   "cell_type": "code",
   "execution_count": 1,
   "metadata": {},
   "outputs": [],
   "source": [
    "# 4 Pillars of OOP\n"
   ]
  },
  {
   "cell_type": "code",
   "execution_count": null,
   "metadata": {},
   "outputs": [],
   "source": []
  },
  {
   "cell_type": "code",
   "execution_count": 1,
   "metadata": {},
   "outputs": [],
   "source": [
    "#  Encapsulation\n",
    "# A simple class to explain Encapsulation\n",
    "class Human():\n",
    "    _name = None\n",
    "    _age = 0\n",
    "\n",
    "    def __init__(self, name, age):\n",
    "        self._name = name\n",
    "        self._name = age\n",
    "\n",
    "    def greet(self, name):\n",
    "        print(f'Hello {name}). My name is {self._name}. Nice to meet you!')"
   ]
  },
  {
   "cell_type": "code",
   "execution_count": 2,
   "metadata": {},
   "outputs": [],
   "source": [
    "# The meaning of Encapsulation here is the internal data (_name, _age) and the behaviour or method (greet()) are ecapsulated and organized toghther inside the Human class\n",
    "# They are tied together and have meaning together\n"
   ]
  },
  {
   "cell_type": "code",
   "execution_count": 3,
   "metadata": {},
   "outputs": [
    {
     "output_type": "stream",
     "name": "stdout",
     "text": [
      "Hello Maia). My name is 13. Nice to meet you!\n"
     ]
    }
   ],
   "source": [
    "human1 = Human('Ryan', 13)\n",
    "human1.greet('Maia')"
   ]
  },
  {
   "cell_type": "code",
   "execution_count": 4,
   "metadata": {},
   "outputs": [
    {
     "output_type": "execute_result",
     "data": {
      "text/plain": [
       "13"
      ]
     },
     "metadata": {},
     "execution_count": 4
    }
   ],
   "source": [
    "human1._name"
   ]
  },
  {
   "cell_type": "code",
   "execution_count": 5,
   "metadata": {},
   "outputs": [],
   "source": [
    "# Abstraction\n",
    "# means a class implement a functionality and dide the detail implementation, but only expose the interface for users to use that functionality.\n",
    "# Users never need to know the detail inside implementation to be able to use the class\n",
    "# For example, a latop is extremely complicated to build, but it expose the interface (screen, keyboard, mouse) for users to use it.\n",
    "# Users never need to know how a latop is buiklt to be able to use it"
   ]
  },
  {
   "cell_type": "code",
   "execution_count": 6,
   "metadata": {},
   "outputs": [],
   "source": [
    "# simplae class to explain Abstraction\n",
    "class DeliveryRobot():\n",
    "    _model = None\n",
    "\n",
    "    def __init__(self, model):\n",
    "        self._model = model\n",
    "\n",
    "    def deliver(self, package, address):\n",
    "    # locate package\n",
    "\n",
    "    # pick package\n",
    "\n",
    "    # locate the delivery adress\n",
    "\n",
    "    # fly from warehouse to the address\n",
    "\n",
    "    # drop the package\n",
    "\n",
    "        print(f'Package {package} is successfully delivered to address {address}')"
   ]
  },
  {
   "cell_type": "code",
   "execution_count": 7,
   "metadata": {},
   "outputs": [
    {
     "output_type": "stream",
     "name": "stdout",
     "text": [
      "Package TV is successfully delivered to address New YOurk\n"
     ]
    }
   ],
   "source": [
    "# A user of the DeliveryRobot class do NOT need to know the detail inside of the robot\n",
    "# just need to instantiate an Robot object and sumply call \"deliver()\" method\n",
    "robot1 = DeliveryRobot('Model 1')\n",
    "robot1. deliver('TV', 'New YOurk')"
   ]
  },
  {
   "cell_type": "code",
   "execution_count": 8,
   "metadata": {},
   "outputs": [],
   "source": [
    "# Inheritance\n",
    "# means a class can inherit from other classes to reuse the code have been written\n",
    "# This also means to avoid code duplication\n"
   ]
  },
  {
   "cell_type": "code",
   "execution_count": 9,
   "metadata": {},
   "outputs": [],
   "source": [
    "# Simple class to explain Ingeritance\n",
    "class Student(Human):\n",
    "    pass"
   ]
  },
  {
   "cell_type": "code",
   "execution_count": 10,
   "metadata": {},
   "outputs": [],
   "source": [
    "# We did not define any attibutes or method for Student class\n",
    "# but because Student is inheritted from Human, so it should already inherit the attributes and methods from Human"
   ]
  },
  {
   "cell_type": "code",
   "execution_count": 11,
   "metadata": {},
   "outputs": [
    {
     "output_type": "stream",
     "name": "stdout",
     "text": [
      "Hello Myra). My name is 25. Nice to meet you!\n"
     ]
    }
   ],
   "source": [
    "student1 = Student('Maia', 25)\n",
    "student1.greet('Myra')"
   ]
  },
  {
   "cell_type": "code",
   "execution_count": 12,
   "metadata": {},
   "outputs": [],
   "source": [
    "# Normally a class inherit the classes and extend the functionalities\n",
    "class Student(Human):\n",
    "    _student_id = None\n",
    "    _grade = None\n",
    "\n",
    "    def __init__(self, name=None, age=0, student_id=None, grade=None):\n",
    "        super().__init__(name, age)\n",
    "        self._student_id = student_id\n",
    "        self._grade = grade\n",
    "\n",
    "    def study(self, course):\n",
    "        print(f'I am studying {course}')\n",
    "        "
   ]
  },
  {
   "cell_type": "code",
   "execution_count": 13,
   "metadata": {},
   "outputs": [],
   "source": [
    "student2 = Student('Arby', 9, '12345', 4)"
   ]
  },
  {
   "cell_type": "code",
   "execution_count": 14,
   "metadata": {},
   "outputs": [
    {
     "output_type": "stream",
     "name": "stdout",
     "text": [
      "Hello Maia). My name is 9. Nice to meet you!\n"
     ]
    }
   ],
   "source": [
    "student2.greet('Maia')"
   ]
  },
  {
   "cell_type": "code",
   "execution_count": 15,
   "metadata": {},
   "outputs": [
    {
     "output_type": "stream",
     "name": "stdout",
     "text": [
      "I am studying Python\n"
     ]
    }
   ],
   "source": [
    "student2.study('Python')"
   ]
  },
  {
   "cell_type": "code",
   "execution_count": 16,
   "metadata": {},
   "outputs": [
    {
     "output_type": "error",
     "ename": "AttributeError",
     "evalue": "'Human' object has no attribute 'study'",
     "traceback": [
      "\u001b[0;31m---------------------------------------------------------------------------\u001b[0m",
      "\u001b[0;31mAttributeError\u001b[0m                            Traceback (most recent call last)",
      "\u001b[0;32m<ipython-input-16-92e084bf27a2>\u001b[0m in \u001b[0;36m<module>\u001b[0;34m()\u001b[0m\n\u001b[1;32m      1\u001b[0m \u001b[0;31m# we got an error because Human class does NOT have the method 'study()'\u001b[0m\u001b[0;34m\u001b[0m\u001b[0;34m\u001b[0m\u001b[0m\n\u001b[1;32m      2\u001b[0m \u001b[0mhuman2\u001b[0m \u001b[0;34m=\u001b[0m \u001b[0mHuman\u001b[0m\u001b[0;34m(\u001b[0m\u001b[0;34m'ABC'\u001b[0m\u001b[0;34m,\u001b[0m \u001b[0;36m1\u001b[0m\u001b[0;34m)\u001b[0m\u001b[0;34m\u001b[0m\u001b[0m\n\u001b[0;32m----> 3\u001b[0;31m \u001b[0mhuman2\u001b[0m\u001b[0;34m.\u001b[0m\u001b[0mstudy\u001b[0m\u001b[0;34m(\u001b[0m\u001b[0;34m'Math'\u001b[0m\u001b[0;34m)\u001b[0m\u001b[0;34m\u001b[0m\u001b[0m\n\u001b[0m",
      "\u001b[0;31mAttributeError\u001b[0m: 'Human' object has no attribute 'study'"
     ]
    }
   ],
   "source": [
    "# we got an error because Human class does NOT have the method 'study()'\n",
    "human2 = Human('ABC', 1)\n",
    "human2.study('Math')"
   ]
  },
  {
   "cell_type": "code",
   "execution_count": 17,
   "metadata": {},
   "outputs": [],
   "source": [
    "#  Indirect inheritance or multi-level inheritance\n",
    "# means when a class inherits from a class, it actually also inherits attributes and methods of all ancesters of that class too\n",
    "class CollegeStudent(Student):\n",
    "    _college = None\n",
    "    _major = None\n",
    "\n",
    "    def __init__(self, name, age, student_id, grade, college, major):\n",
    "        super().__init__(name, age, student_id, grade)\n",
    "        self._major = major\n",
    "\n",
    "    def work_part_time(self):\n",
    "        print('I am a college student. I can work part-time')\n",
    "\n",
    "    def research(self, topic):\n",
    "        print(f'I study in major {self._major}. I am researching about {topic}')\n",
    "\n"
   ]
  },
  {
   "cell_type": "code",
   "execution_count": 18,
   "metadata": {},
   "outputs": [],
   "source": [
    "student4 = CollegeStudent('Ryan', 17, '123678', 'Excellent', 'Harvard', 'Computer')"
   ]
  },
  {
   "cell_type": "code",
   "execution_count": 19,
   "metadata": {},
   "outputs": [
    {
     "output_type": "stream",
     "name": "stdout",
     "text": [
      "Hello Mom). My name is 17. Nice to meet you!\n"
     ]
    }
   ],
   "source": [
    "student4.greet('Mom')"
   ]
  },
  {
   "cell_type": "code",
   "execution_count": 20,
   "metadata": {},
   "outputs": [
    {
     "output_type": "stream",
     "name": "stdout",
     "text": [
      "I am studying Computer\n"
     ]
    }
   ],
   "source": [
    "student4.study('Computer')"
   ]
  },
  {
   "cell_type": "code",
   "execution_count": 21,
   "metadata": {},
   "outputs": [
    {
     "output_type": "stream",
     "name": "stdout",
     "text": [
      "I study in major Computer. I am researching about Database\n"
     ]
    }
   ],
   "source": [
    "student4.research('Database')"
   ]
  },
  {
   "cell_type": "code",
   "execution_count": 22,
   "metadata": {},
   "outputs": [],
   "source": [
    "# Multi Inheritance or Multiple Inheritance\n",
    "# means a class can inherits multiple classes at the same time, this is different with multiple-level inheritance, a.k.a. (also know as) indirect inheritance\n",
    "class Driver(Human):\n",
    "    _driver_id = None\n",
    "\n",
    "    def __init__(self, name, age, driver_id):\n",
    "        super().__init__(name, age)\n",
    "        self._driver_id = driver_id\n",
    "\n",
    "    def drive(self):\n",
    "        print(f'I can drive. My driver license is {self._driver_id}. Zoom zooooom.')\n",
    "\n"
   ]
  },
  {
   "cell_type": "code",
   "execution_count": 23,
   "metadata": {},
   "outputs": [],
   "source": [
    "# Now, we can create a simple class to explain Multi-inderitance\n",
    "class Graduate(CollegeStudent, Driver):\n",
    "    _certificate_id = None\n",
    "\n",
    "    def __init__(self, name, certificate_id, _driver_id):\n",
    "        self._name = name\n",
    "        self._certificate_id = certificate_id\n",
    "        self._driver_id = _driver_id\n",
    "        \n",
    "    def seek_job(self):\n",
    "        print(f'I am a graduate. My certificate is {self._certificate_id}. I can drive too. My driver license is {self._driver_id}.')\n",
    "        print('I am seeking for a good job.')"
   ]
  },
  {
   "cell_type": "code",
   "execution_count": 24,
   "metadata": {},
   "outputs": [],
   "source": [
    "graduate1 = Graduate('Maia', 'Certificate -111', 'Driver ID - 123')"
   ]
  },
  {
   "cell_type": "code",
   "execution_count": 25,
   "metadata": {},
   "outputs": [
    {
     "output_type": "stream",
     "name": "stdout",
     "text": [
      "I can drive. My driver license is Driver ID - 123. Zoom zooooom.\n"
     ]
    }
   ],
   "source": [
    "graduate1.drive()"
   ]
  },
  {
   "cell_type": "code",
   "execution_count": 26,
   "metadata": {},
   "outputs": [
    {
     "output_type": "stream",
     "name": "stdout",
     "text": [
      "I am a graduate. My certificate is Certificate -111. I can drive too. My driver license is Driver ID - 123.\nI am seeking for a good job.\n"
     ]
    }
   ],
   "source": [
    "graduate1.seek_job()"
   ]
  },
  {
   "cell_type": "code",
   "execution_count": 27,
   "metadata": {},
   "outputs": [
    {
     "output_type": "stream",
     "name": "stdout",
     "text": [
      "I study in major None. I am researching about Math\n"
     ]
    }
   ],
   "source": [
    "graduate1.research('Math')"
   ]
  },
  {
   "cell_type": "code",
   "execution_count": null,
   "metadata": {},
   "outputs": [],
   "source": []
  },
  {
   "cell_type": "code",
   "execution_count": 28,
   "metadata": {},
   "outputs": [],
   "source": [
    "# Poly-morphism\n",
    "# means the same method name can behave/work differently depends on the actual object/class that implement that method\n",
    "# this normally happens when a subclass wants to override the same behavior/method of its supperclass\n",
    "# For example, a Student has a method 'study()', and a CollegeStudent can inherit it. But if CollegeStudent want to behave differently then it can override that method\n",
    "\n",
    "class CollegeStudent(Student):\n",
    "    _college = None\n",
    "    _major = None\n",
    "\n",
    "    def __init__(self, name, age, student_id, grade, college, major):\n",
    "        super().__init__(name, age, student_id, grade)\n",
    "        self._major = major\n",
    "\n",
    "    def work_part_time(self):\n",
    "        print('I am a college student. I can work part-time')\n",
    "\n",
    "    def research(self, topic):\n",
    "        print(f'I study in major {self._major}. I am researching about {topic}')\n",
    "\n",
    "    # this method looks exactly the same with study() method in Student class\n",
    "    # but the detail implementation is defferent\n",
    "    def study(self, course):\n",
    "        print(f'I am a CollegeStudent. I study very differently with grade school student.')\n",
    "        print(f'I study differently on subjects {course}')"
   ]
  },
  {
   "cell_type": "code",
   "execution_count": 29,
   "metadata": {},
   "outputs": [],
   "source": [
    "student5 = Student('Myra', 7, '123','TAG')\n",
    "student6 = CollegeStudent('Ryan', 14, '456', 'Exellent', 'Yale', 'Art')"
   ]
  },
  {
   "cell_type": "code",
   "execution_count": 30,
   "metadata": {},
   "outputs": [
    {
     "output_type": "stream",
     "name": "stdout",
     "text": [
      "I am studying Math\n"
     ]
    }
   ],
   "source": [
    "student5.study('Math')"
   ]
  },
  {
   "cell_type": "code",
   "execution_count": 31,
   "metadata": {},
   "outputs": [
    {
     "output_type": "stream",
     "name": "stdout",
     "text": [
      "I am a CollegeStudent. I study very differently with grade school student.\nI study differently on subjects Math\n"
     ]
    }
   ],
   "source": [
    "student6.study('Math')"
   ]
  },
  {
   "cell_type": "code",
   "execution_count": 32,
   "metadata": {},
   "outputs": [
    {
     "output_type": "execute_result",
     "data": {
      "text/plain": [
       "__main__.CollegeStudent"
      ]
     },
     "metadata": {},
     "execution_count": 32
    }
   ],
   "source": [
    "type(student6)"
   ]
  },
  {
   "cell_type": "code",
   "execution_count": 33,
   "metadata": {},
   "outputs": [
    {
     "output_type": "stream",
     "name": "stdout",
     "text": [
      "I am studying Math\n"
     ]
    }
   ],
   "source": [
    "# it is a CollegeStudent\n",
    "# what if we want it to BEHAVE as if it is a Student, NOT CollegeStudent?\n",
    "# we can change it bahavior by changing it __class__ attribute\n",
    "student6.__class__ = Student\n",
    "student6.study('Math')"
   ]
  },
  {
   "cell_type": "code",
   "execution_count": 34,
   "metadata": {},
   "outputs": [
    {
     "output_type": "execute_result",
     "data": {
      "text/plain": [
       "__main__.Student"
      ]
     },
     "metadata": {},
     "execution_count": 34
    }
   ],
   "source": [
    "# now check its type/class again\n",
    "type(student6)"
   ]
  },
  {
   "cell_type": "code",
   "execution_count": 35,
   "metadata": {},
   "outputs": [
    {
     "output_type": "error",
     "ename": "AttributeError",
     "evalue": "'Student' object has no attribute 'research'",
     "traceback": [
      "\u001b[0;31m---------------------------------------------------------------------------\u001b[0m",
      "\u001b[0;31mAttributeError\u001b[0m                            Traceback (most recent call last)",
      "\u001b[0;32m<ipython-input-35-159b0c6d640c>\u001b[0m in \u001b[0;36m<module>\u001b[0;34m()\u001b[0m\n\u001b[0;32m----> 1\u001b[0;31m \u001b[0mstudent6\u001b[0m\u001b[0;34m.\u001b[0m\u001b[0mresearch\u001b[0m\u001b[0;34m(\u001b[0m\u001b[0;34m'Math'\u001b[0m\u001b[0;34m)\u001b[0m\u001b[0;34m\u001b[0m\u001b[0m\n\u001b[0m",
      "\u001b[0;31mAttributeError\u001b[0m: 'Student' object has no attribute 'research'"
     ]
    }
   ],
   "source": [
    "student6.research('Math')"
   ]
  },
  {
   "cell_type": "code",
   "execution_count": 36,
   "metadata": {},
   "outputs": [
    {
     "output_type": "stream",
     "name": "stdout",
     "text": [
      "I study in major Art. I am researching about Math\n"
     ]
    }
   ],
   "source": [
    "student6.__class__ = CollegeStudent\n",
    "student6.research('Math')"
   ]
  },
  {
   "cell_type": "code",
   "execution_count": 37,
   "metadata": {},
   "outputs": [
    {
     "output_type": "stream",
     "name": "stdout",
     "text": [
      "I study in major None. I am researching about Math\n"
     ]
    }
   ],
   "source": [
    "# Because we switch student5 to class CollegeStudent while student5 has less parameter than which are in CollegeStudent.\n",
    "student5.__class__ = CollegeStudent\n",
    "student5.research('Math')"
   ]
  },
  {
   "cell_type": "code",
   "execution_count": null,
   "metadata": {},
   "outputs": [],
   "source": []
  }
 ]
}
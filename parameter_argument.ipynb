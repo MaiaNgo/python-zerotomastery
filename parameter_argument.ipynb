{
 "metadata": {
  "language_info": {
   "codemirror_mode": {
    "name": "ipython",
    "version": 3
   },
   "file_extension": ".py",
   "mimetype": "text/x-python",
   "name": "python",
   "nbconvert_exporter": "python",
   "pygments_lexer": "ipython3",
   "version": "3.6.6-final"
  },
  "orig_nbformat": 2,
  "kernelspec": {
   "name": "python3",
   "display_name": "Python 3"
  }
 },
 "nbformat": 4,
 "nbformat_minor": 2,
 "cells": [
  {
   "source": [
    "## PARAMETERS & ARGUMENTS\n"
   ],
   "cell_type": "markdown",
   "metadata": {}
  },
  {
   "cell_type": "code",
   "execution_count": 1,
   "metadata": {},
   "outputs": [],
   "source": [
    "# Parameters\n",
    "def say_hello(name, emoji):\n",
    "    print(f'hellllloooooo {name} {emoji}')"
   ]
  },
  {
   "cell_type": "code",
   "execution_count": 2,
   "metadata": {},
   "outputs": [
    {
     "output_type": "stream",
     "name": "stdout",
     "text": [
      "hellllloooooo Maia :-}\n"
     ]
    }
   ],
   "source": [
    "# Arguments\n",
    "say_hello('Maia', ':-}') # call or invoke"
   ]
  },
  {
   "cell_type": "code",
   "execution_count": 3,
   "metadata": {},
   "outputs": [
    {
     "output_type": "stream",
     "name": "stdout",
     "text": [
      "hellllloooooo Myra :-}\nhellllloooooo Arbyia :-}\nhellllloooooo Ryan :-}\n"
     ]
    }
   ],
   "source": [
    "# positional arguments\n",
    "say_hello('Myra', ':-}')\n",
    "say_hello('Arbyia', ':-}')\n",
    "say_hello('Ryan', ':-}')"
   ]
  },
  {
   "cell_type": "code",
   "execution_count": 4,
   "metadata": {},
   "outputs": [
    {
     "output_type": "stream",
     "name": "stdout",
     "text": [
      "hellllloooooo Bebe :-}\n"
     ]
    }
   ],
   "source": [
    "# Keyword arguments\n",
    "say_hello(emoji=':-}', name='Bebe')"
   ]
  },
  {
   "cell_type": "code",
   "execution_count": null,
   "metadata": {},
   "outputs": [],
   "source": []
  }
 ]
}
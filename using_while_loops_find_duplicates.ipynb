{
 "metadata": {
  "language_info": {
   "codemirror_mode": {
    "name": "ipython",
    "version": 3
   },
   "file_extension": ".py",
   "mimetype": "text/x-python",
   "name": "python",
   "nbconvert_exporter": "python",
   "pygments_lexer": "ipython3",
   "version": "3.6.6-final"
  },
  "orig_nbformat": 2,
  "kernelspec": {
   "name": "python3",
   "display_name": "Python 3"
  }
 },
 "nbformat": 4,
 "nbformat_minor": 2,
 "cells": [
  {
   "source": [
    "## FIND DUPLICATE"
   ],
   "cell_type": "markdown",
   "metadata": {}
  },
  {
   "cell_type": "code",
   "execution_count": 9,
   "metadata": {},
   "outputs": [
    {
     "output_type": "stream",
     "name": "stdout",
     "text": [
      "['a']\n['a', 'c']\n['a', 'c', 'c']\n['a', 'c', 'c', 'a']\n['a', 'c', 'c', 'a', 'm']\n['a', 'c', 'c', 'a', 'm', 'm']\n"
     ]
    }
   ],
   "source": [
    "# check for duplicates in this list\n",
    "some_list = ['a', 'b', 'c','c', 'd', 'a', 'm', 'm', 'n', 'l']\n",
    "duplicates = []\n",
    "for item in some_list:\n",
    "    if some_list.count(item) > 1:\n",
    "        duplicates.append(item)\n",
    "        print(duplicates)\n"
   ]
  },
  {
   "cell_type": "code",
   "execution_count": 7,
   "metadata": {},
   "outputs": [
    {
     "output_type": "stream",
     "name": "stdout",
     "text": [
      "['a', 'c', 'c', 'a', 'm', 'm']\n"
     ]
    }
   ],
   "source": [
    "some_list = ['a', 'b', 'c','c', 'd', 'a', 'm', 'm', 'n', 'l']\n",
    "duplicates = []\n",
    "for item in some_list:\n",
    "    if some_list.count(item) > 1:\n",
    "        duplicates.append(item)\n",
    "print(duplicates)"
   ]
  },
  {
   "cell_type": "code",
   "execution_count": 10,
   "metadata": {},
   "outputs": [
    {
     "output_type": "stream",
     "name": "stdout",
     "text": [
      "['a', 'c', 'm']\n"
     ]
    }
   ],
   "source": [
    "some_list = ['a', 'b', 'c','c', 'd', 'a', 'm', 'm', 'n', 'l']\n",
    "duplicates = []\n",
    "for item in some_list:\n",
    "    if some_list.count(item) > 1:\n",
    "        if item not in duplicates:\n",
    "            duplicates.append(item)\n",
    "print(duplicates)"
   ]
  },
  {
   "cell_type": "code",
   "execution_count": null,
   "metadata": {},
   "outputs": [],
   "source": []
  }
 ]
}